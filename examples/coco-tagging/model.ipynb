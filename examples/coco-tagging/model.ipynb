{
 "cells": [
  {
   "cell_type": "code",
   "execution_count": null,
   "metadata": {},
   "outputs": [],
   "source": [
    "from torchvision.models import resnet18\n",
    "import torch\n",
    "import sys\n",
    "\n",
    "from torchvision import transforms\n",
    "from PIL import Image\n",
    "import pandas as pd\n",
    "import json"
   ]
  },
  {
   "cell_type": "code",
   "execution_count": null,
   "metadata": {},
   "outputs": [],
   "source": [
    "preprocess = transforms.Compose([\n",
    "    transforms.Resize(256),\n",
    "    transforms.CenterCrop(224),\n",
    "    transforms.ToTensor(),\n",
    "    transforms.Normalize(mean=[0.485, 0.456, 0.406], std=[0.229, 0.224, 0.225]),\n",
    "])\n",
    "\n",
    "labels = [\"person\", \"bicycle\", \"car\", \"motorcycle\", \"airplane\", \"bus\", \"train\", \"truck\", \"boat\", \"traffic+light\", \"fire+hydrant\", \"stop+sign\", \"parking+meter\", \"bench\", \"bird\", \"cat\", \"dog\", \"horse\", \"sheep\", \"cow\", \"elephant\", \"bear\", \"zebra\", \"giraffe\", \"backpack\", \"umbrella\", \"handbag\", \"tie\", \"suitcase\", \"frisbee\", \"skis\", \"snowboard\", \"sports+ball\", \"kite\", \"baseball+bat\", \"baseball+glove\", \"skateboard\", \"surfboard\", \"tennis+racket\", \"bottle\", \"wine+glass\", \"cup\", \"fork\", \"knife\", \"spoon\", \"bowl\", \"banana\", \"apple\", \"sandwich\", \"orange\", \"broccoli\", \"carrot\", \"hot+dog\", \"pizza\", \"donut\", \"cake\", \"chair\", \"couch\", \"potted+plant\", \"bed\", \"dining+table\", \"toilet\", \"tv\", \"laptop\", \"mouse\", \"remote\", \"keyboard\", \"cell+phone\", \"microwave\", \"oven\", \"toaster\", \"sink\", \"refrigerator\", \"book\", \"clock\", \"vase\", \"scissors\", \"teddy+bear\", \"hair+drier\", \"toothbrush\"]"
   ]
  },
  {
   "cell_type": "code",
   "execution_count": null,
   "metadata": {},
   "outputs": [],
   "source": [
    "def get_model(out_features = 1, mode = 'tune', parent = 'pretrained', randomize = False):\n",
    "    # Load the model\n",
    "    model = resnet18(pretrained = (parent == 'pretrained'))\n",
    "    # Change the classification layer\n",
    "    model.fc = torch.nn.Linear(in_features = 512, out_features = out_features)\n",
    "    # Load the in the parent model weights\n",
    "    if parent != 'pretrained':\n",
    "        model.load_state_dict(torch.load(parent, map_location=torch.device('cpu')))\n",
    "    if randomize:\n",
    "        model.fc = torch.nn.Linear(in_features = 512, out_features = out_features)\n",
    "    # Setup the trainable parameters\n",
    "    if mode == 'tune':\n",
    "        return model, model.parameters()\n",
    "    elif mode == 'transfer':\n",
    "        for param in model.parameters():\n",
    "            param.requires_grad = False\n",
    "        model.fc.weight.requires_grad = True\n",
    "        model.fc.bias.requires_grad = True\n",
    "        return model, model.fc.parameters()\n",
    "    elif mode == 'eval':\n",
    "        for param in model.parameters():\n",
    "            param.requires_grad = False\n",
    "        model.eval()\n",
    "        return model\n",
    "    else:\n",
    "        print('ResNet.py: Could not determine trainable parameters')\n",
    "        sys.exit(0)"
   ]
  },
  {
   "cell_type": "code",
   "execution_count": null,
   "metadata": {},
   "outputs": [],
   "source": [
    "m = get_model(out_features=80, mode = 'eval', parent='../../../model.pt')"
   ]
  },
  {
   "cell_type": "code",
   "execution_count": null,
   "metadata": {},
   "outputs": [],
   "source": [
    "img = Image.open(\"/Users/acabrera/dev/data/coco-2017/val2017/000000015335.jpg\")"
   ]
  },
  {
   "cell_type": "code",
   "execution_count": null,
   "metadata": {},
   "outputs": [],
   "source": [
    "img.show()"
   ]
  },
  {
   "cell_type": "code",
   "execution_count": null,
   "metadata": {},
   "outputs": [],
   "source": [
    "img_t = preprocess(img)"
   ]
  },
  {
   "cell_type": "code",
   "execution_count": null,
   "metadata": {},
   "outputs": [],
   "source": [
    "m(img_t.unsqueeze(0))"
   ]
  },
  {
   "cell_type": "code",
   "execution_count": null,
   "metadata": {},
   "outputs": [],
   "source": [
    "with open(\"/Users/acabrera/dev/data/coco-2017/instances_val2017.json\") as f:\n",
    "\tdata = json.load(f)"
   ]
  },
  {
   "cell_type": "code",
   "execution_count": null,
   "metadata": {},
   "outputs": [],
   "source": [
    "data.keys()"
   ]
  },
  {
   "cell_type": "code",
   "execution_count": null,
   "metadata": {},
   "outputs": [],
   "source": [
    "len(data['images']), data['images'][0], data['annotations'][0], data['categories'][1]"
   ]
  },
  {
   "cell_type": "code",
   "execution_count": null,
   "metadata": {},
   "outputs": [],
   "source": [
    "df = pd.DataFrame.from_dict(data['images'])\n",
    "df.set_index('id', inplace=True)"
   ]
  },
  {
   "cell_type": "code",
   "execution_count": null,
   "metadata": {},
   "outputs": [],
   "source": [
    "df['label'] = '['\n",
    "for c in labels:\n",
    "\tdf[c] = 0\n",
    "for ann in data['annotations']:\n",
    "\tidx = ann['category_id'] - 1\n",
    "\tif ann['category_id'] > 79:\n",
    "\t\tcontinue\n",
    "\tval = df.at[ann['image_id'], labels[idx]] \n",
    "\tif val == 0:\n",
    "\t\tdf.at[ann['image_id'], 'label'] = df.at[ann['image_id'], 'label'] + labels[idx] + ','\n",
    "\tdf.at[ann['image_id'], labels[idx]] = val + 1\n",
    "df['label'] = df['label'].str.slice(0, -1) + ']'"
   ]
  },
  {
   "cell_type": "code",
   "execution_count": null,
   "metadata": {},
   "outputs": [],
   "source": [
    "df['label']"
   ]
  },
  {
   "cell_type": "code",
   "execution_count": null,
   "metadata": {},
   "outputs": [],
   "source": [
    "df"
   ]
  },
  {
   "cell_type": "code",
   "execution_count": null,
   "metadata": {},
   "outputs": [],
   "source": [
    "df.to_csv('coco-tagging.csv')"
   ]
  },
  {
   "cell_type": "code",
   "execution_count": null,
   "metadata": {},
   "outputs": [],
   "source": []
  }
 ],
 "metadata": {
  "kernelspec": {
   "display_name": "Python 3.9.13 ('.venv': poetry)",
   "language": "python",
   "name": "python3"
  },
  "language_info": {
   "codemirror_mode": {
    "name": "ipython",
    "version": 3
   },
   "file_extension": ".py",
   "mimetype": "text/x-python",
   "name": "python",
   "nbconvert_exporter": "python",
   "pygments_lexer": "ipython3",
   "version": "3.9.13"
  },
  "orig_nbformat": 4,
  "vscode": {
   "interpreter": {
    "hash": "59d606a796fde3c997548ee5ab3f3009081de8aa2fb58c2406e58b3c7613e786"
   }
  }
 },
 "nbformat": 4,
 "nbformat_minor": 2
}
