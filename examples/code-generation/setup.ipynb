{
 "cells": [
  {
   "cell_type": "code",
   "execution_count": 4,
   "metadata": {},
   "outputs": [],
   "source": [
    "import pandas as pd\n",
    "import os"
   ]
  },
  {
   "cell_type": "code",
   "execution_count": null,
   "metadata": {},
   "outputs": [],
   "source": [
    "DATA_DIR = \"/Users/acabrera/dev/data/python-functions\""
   ]
  },
  {
   "cell_type": "code",
   "execution_count": 12,
   "metadata": {},
   "outputs": [],
   "source": [
    "entries = []\n",
    "for f in os.listdir(DATA_DIR):\n",
    "\tif f.endswith(\".py\"):\n",
    "\t\twith open(os.path.join(DATA_DIR, f), \"r\") as fp:\n",
    "\t\t\tcode = fp.read()\n",
    "\t\t\tentries.append({\"name\": f, \"code\": code, \"completion\": code[0:50]})"
   ]
  },
  {
   "cell_type": "code",
   "execution_count": 13,
   "metadata": {},
   "outputs": [],
   "source": [
    "df = pd.DataFrame(entries)"
   ]
  },
  {
   "cell_type": "code",
   "execution_count": 14,
   "metadata": {},
   "outputs": [
    {
     "data": {
      "text/html": [
       "<div>\n",
       "<style scoped>\n",
       "    .dataframe tbody tr th:only-of-type {\n",
       "        vertical-align: middle;\n",
       "    }\n",
       "\n",
       "    .dataframe tbody tr th {\n",
       "        vertical-align: top;\n",
       "    }\n",
       "\n",
       "    .dataframe thead th {\n",
       "        text-align: right;\n",
       "    }\n",
       "</style>\n",
       "<table border=\"1\" class=\"dataframe\">\n",
       "  <thead>\n",
       "    <tr style=\"text-align: right;\">\n",
       "      <th></th>\n",
       "      <th>name</th>\n",
       "      <th>code</th>\n",
       "    </tr>\n",
       "  </thead>\n",
       "  <tbody>\n",
       "    <tr>\n",
       "      <th>0</th>\n",
       "      <td>qr2022_task2_var1.py</td>\n",
       "      <td>T=int(input())\\nfor t in range(T):\\n    C,M,Y,...</td>\n",
       "    </tr>\n",
       "    <tr>\n",
       "      <th>1</th>\n",
       "      <td>qr2021_task3_var1.py</td>\n",
       "      <td># S ✓ TLE\\ndef max_cost(n):\\n    if n==2: retu...</td>\n",
       "    </tr>\n",
       "    <tr>\n",
       "      <th>2</th>\n",
       "      <td>embedding_html_page.py</td>\n",
       "      <td>from IPython.display import display,HTML\\ndef ...</td>\n",
       "    </tr>\n",
       "    <tr>\n",
       "      <th>3</th>\n",
       "      <td>qr2018_task3_var1.py</td>\n",
       "      <td>def go_gopher(a):\\n    k=a//3+1\\n    l=k//3\\n ...</td>\n",
       "    </tr>\n",
       "    <tr>\n",
       "      <th>4</th>\n",
       "      <td>danfo_csv.py</td>\n",
       "      <td>from IPython.core.display import display,HTML\\...</td>\n",
       "    </tr>\n",
       "  </tbody>\n",
       "</table>\n",
       "</div>"
      ],
      "text/plain": [
       "                     name                                               code\n",
       "0    qr2022_task2_var1.py  T=int(input())\\nfor t in range(T):\\n    C,M,Y,...\n",
       "1    qr2021_task3_var1.py  # S ✓ TLE\\ndef max_cost(n):\\n    if n==2: retu...\n",
       "2  embedding_html_page.py  from IPython.display import display,HTML\\ndef ...\n",
       "3    qr2018_task3_var1.py  def go_gopher(a):\\n    k=a//3+1\\n    l=k//3\\n ...\n",
       "4            danfo_csv.py  from IPython.core.display import display,HTML\\..."
      ]
     },
     "execution_count": 14,
     "metadata": {},
     "output_type": "execute_result"
    }
   ],
   "source": [
    "df.head()"
   ]
  },
  {
   "cell_type": "code",
   "execution_count": 15,
   "metadata": {},
   "outputs": [],
   "source": [
    "df.to_csv(\"code.csv\", index=False)"
   ]
  },
  {
   "cell_type": "code",
   "execution_count": null,
   "metadata": {},
   "outputs": [],
   "source": []
  }
 ],
 "metadata": {
  "kernelspec": {
   "display_name": ".venv",
   "language": "python",
   "name": "python3"
  },
  "language_info": {
   "codemirror_mode": {
    "name": "ipython",
    "version": 3
   },
   "file_extension": ".py",
   "mimetype": "text/x-python",
   "name": "python",
   "nbconvert_exporter": "python",
   "pygments_lexer": "ipython3",
   "version": "3.8.12"
  },
  "orig_nbformat": 4,
  "vscode": {
   "interpreter": {
    "hash": "59d606a796fde3c997548ee5ab3f3009081de8aa2fb58c2406e58b3c7613e786"
   }
  }
 },
 "nbformat": 4,
 "nbformat_minor": 2
}
