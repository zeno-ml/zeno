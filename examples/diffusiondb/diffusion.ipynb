{
 "cells": [
  {
   "cell_type": "code",
   "execution_count": 1,
   "metadata": {},
   "outputs": [],
   "source": [
    "from urllib.request import urlretrieve\n",
    "\n",
    "# Download the parquet table\n",
    "table_url = f'https://huggingface.co/datasets/poloclub/diffusiondb/resolve/main/metadata.parquet'\n",
    "urlretrieve(table_url, 'metadata.parquet')\n"
   ]
  },
  {
   "cell_type": "code",
   "execution_count": 3,
   "metadata": {},
   "outputs": [],
   "source": [
    "# Read the table using Pandas\n",
    "import pandas as pd\n",
    "metadata_df = pd.read_parquet('metadata_f.parquet')"
   ]
  },
  {
   "cell_type": "code",
   "execution_count": 4,
   "metadata": {},
   "outputs": [
    {
     "name": "stdout",
     "output_type": "stream",
     "text": [
      "<class 'pandas.core.frame.DataFrame'>\n",
      "RangeIndex: 2000000 entries, 0 to 1999999\n",
      "Data columns (total 12 columns):\n",
      " #   Column       Dtype              \n",
      "---  ------       -----              \n",
      " 0   image_name   object             \n",
      " 1   prompt       object             \n",
      " 2   part_id      uint16             \n",
      " 3   seed         uint32             \n",
      " 4   step         uint16             \n",
      " 5   sampler      uint8              \n",
      " 6   width        uint16             \n",
      " 7   height       uint16             \n",
      " 8   user_name    object             \n",
      " 9   timestamp    datetime64[ns, UTC]\n",
      " 10  image_nsfw   float32            \n",
      " 11  prompt_nsfw  float32            \n",
      "dtypes: datetime64[ns, UTC](1), float32(2), object(3), uint16(4), uint32(1), uint8(1)\n",
      "memory usage: 901.1 MB\n"
     ]
    }
   ],
   "source": [
    "metadata_df.info(memory_usage=\"deep\")"
   ]
  },
  {
   "cell_type": "code",
   "execution_count": 8,
   "metadata": {},
   "outputs": [],
   "source": [
    "metadata_df.drop(\"cfg\", axis=1, inplace=True)"
   ]
  },
  {
   "cell_type": "code",
   "execution_count": 10,
   "metadata": {},
   "outputs": [],
   "source": [
    "metadata_df[\"image_name\"] = metadata_df[\"image_name\"].str.replace(\"png\", \"jpg\")"
   ]
  },
  {
   "cell_type": "code",
   "execution_count": 11,
   "metadata": {},
   "outputs": [],
   "source": [
    "metadata_df.to_parquet(\"metadata_f.parquet\")"
   ]
  },
  {
   "cell_type": "code",
   "execution_count": null,
   "metadata": {},
   "outputs": [],
   "source": []
  }
 ],
 "metadata": {
  "kernelspec": {
   "display_name": "Python 3.8.12 ('base')",
   "language": "python",
   "name": "python3"
  },
  "language_info": {
   "codemirror_mode": {
    "name": "ipython",
    "version": 3
   },
   "file_extension": ".py",
   "mimetype": "text/x-python",
   "name": "python",
   "nbconvert_exporter": "python",
   "pygments_lexer": "ipython3",
   "version": "3.8.12 | packaged by conda-forge | (default, Jan 30 2022, 23:33:09) \n[Clang 11.1.0 ]"
  },
  "orig_nbformat": 4,
  "vscode": {
   "interpreter": {
    "hash": "40d3a090f54c6569ab1632332b64b2c03c39dcf918b08424e98f38b5ae0af88f"
   }
  }
 },
 "nbformat": 4,
 "nbformat_minor": 2
}
